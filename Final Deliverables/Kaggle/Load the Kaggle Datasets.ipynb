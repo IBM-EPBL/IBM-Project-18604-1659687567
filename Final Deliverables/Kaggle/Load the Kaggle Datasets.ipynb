{
 "cells": [
  {
   "cell_type": "markdown",
   "metadata": {
    "id": "48Zsj-SIqk04"
   },
   "source": [
    "## **IBM-Project-18604-1659687567**\n",
    "|      **Project Name**     | DHL Logistics Facilities   |\n",
    "|:-------------------------:|:--------------------------:|\n",
    "|         **Domain**        |  Data Analytics   |\n",
    "|        **Team ID**        |  PNT2022TMID29636 |"
   ]
  },
  {
   "cell_type": "markdown",
   "metadata": {
    "id": "B5FFMifll2yG"
   },
   "source": [
    "### **1. Install the Kaggle library**"
   ]
  },
  {
   "cell_type": "code",
   "execution_count": 1,
   "metadata": {
    "colab": {
     "base_uri": "https://localhost:8080/"
    },
    "id": "-X9Ppoeqjwba",
    "outputId": "b2ea17bd-f84e-42e5-c466-c036beb8f935"
   },
   "outputs": [
    {
     "name": "stdout",
     "output_type": "stream",
     "text": [
      "Looking in indexes: https://pypi.org/simple, https://us-python.pkg.dev/colab-wheels/public/simple/\n",
      "Requirement already satisfied: kaggle in /usr/local/lib/python3.7/dist-packages (1.5.12)\n",
      "Requirement already satisfied: tqdm in /usr/local/lib/python3.7/dist-packages (from kaggle) (4.64.1)\n",
      "Requirement already satisfied: certifi in /usr/local/lib/python3.7/dist-packages (from kaggle) (2022.9.24)\n",
      "Requirement already satisfied: six>=1.10 in /usr/local/lib/python3.7/dist-packages (from kaggle) (1.15.0)\n",
      "Requirement already satisfied: python-dateutil in /usr/local/lib/python3.7/dist-packages (from kaggle) (2.8.2)\n",
      "Requirement already satisfied: python-slugify in /usr/local/lib/python3.7/dist-packages (from kaggle) (6.1.2)\n",
      "Requirement already satisfied: urllib3 in /usr/local/lib/python3.7/dist-packages (from kaggle) (1.24.3)\n",
      "Requirement already satisfied: requests in /usr/local/lib/python3.7/dist-packages (from kaggle) (2.23.0)\n",
      "Requirement already satisfied: text-unidecode>=1.3 in /usr/local/lib/python3.7/dist-packages (from python-slugify->kaggle) (1.3)\n",
      "Requirement already satisfied: idna<3,>=2.5 in /usr/local/lib/python3.7/dist-packages (from requests->kaggle) (2.10)\n",
      "Requirement already satisfied: chardet<4,>=3.0.2 in /usr/local/lib/python3.7/dist-packages (from requests->kaggle) (3.0.4)\n"
     ]
    }
   ],
   "source": [
    "! pip install kaggle"
   ]
  },
  {
   "cell_type": "markdown",
   "metadata": {
    "id": "YXOfLbxImDWR"
   },
   "source": [
    "### **2. Make a directory named “.kaggle”**"
   ]
  },
  {
   "cell_type": "code",
   "execution_count": 2,
   "metadata": {
    "id": "vZI1iI-Xkhmq"
   },
   "outputs": [],
   "source": [
    "! mkdir ~/.kaggle"
   ]
  },
  {
   "cell_type": "markdown",
   "metadata": {
    "id": "Xv2_Am0fmDhf"
   },
   "source": [
    "### **3. Copy the “kaggle.json” into this new directory**"
   ]
  },
  {
   "cell_type": "code",
   "execution_count": 3,
   "metadata": {
    "id": "5wDjuWRFklmV"
   },
   "outputs": [],
   "source": [
    "! cp kaggle.json ~/.kaggle/"
   ]
  },
  {
   "cell_type": "markdown",
   "metadata": {
    "id": "B32SH5jAmDsf"
   },
   "source": [
    "### **4. Allocate the required permission for this file.**"
   ]
  },
  {
   "cell_type": "code",
   "execution_count": 4,
   "metadata": {
    "id": "tfBQIgaUklyi"
   },
   "outputs": [],
   "source": [
    "! chmod 600 ~/.kaggle/kaggle.json"
   ]
  },
  {
   "cell_type": "markdown",
   "metadata": {
    "id": "E0Odc2sLmmMK"
   },
   "source": [
    "### **5. Download datasets**"
   ]
  },
  {
   "cell_type": "code",
   "execution_count": 5,
   "metadata": {
    "colab": {
     "base_uri": "https://localhost:8080/"
    },
    "id": "-8NBG-0FlBBL",
    "outputId": "8754e015-4f78-4784-fbdb-1c5e5c87a730"
   },
   "outputs": [
    {
     "name": "stdout",
     "output_type": "stream",
     "text": [
      "Downloading dhl-logistics-facilities.zip to /content\n",
      "\r",
      "  0% 0.00/1.11M [00:00<?, ?B/s]\n",
      "\r",
      "100% 1.11M/1.11M [00:00<00:00, 104MB/s]\n"
     ]
    }
   ],
   "source": [
    "! kaggle datasets download -d suryar25/dhl-logistics-facilities"
   ]
  },
  {
   "cell_type": "markdown",
   "metadata": {
    "id": "9QFnfqemmwT2"
   },
   "source": [
    "### **6. Unzip to extract the data:**"
   ]
  },
  {
   "cell_type": "code",
   "execution_count": 6,
   "metadata": {
    "colab": {
     "base_uri": "https://localhost:8080/"
    },
    "id": "IWll86BFllYZ",
    "outputId": "e252040c-a7ad-43a2-ce25-830e3d3c42d4"
   },
   "outputs": [
    {
     "name": "stdout",
     "output_type": "stream",
     "text": [
      "Archive:  dhl-logistics-facilities.zip\n",
      "  inflating: DHL_Facilities.csv      \n"
     ]
    }
   ],
   "source": [
    "! unzip dhl-logistics-facilities.zip"
   ]
  },
  {
   "cell_type": "markdown",
   "metadata": {},
   "source": [
    "# GitHub Link : https://github.com/IBM-EPBL/IBM-Project-18604-1659687567"
   ]
  }
 ],
 "metadata": {
  "colab": {
   "provenance": []
  },
  "kernelspec": {
   "display_name": "Python 3 (ipykernel)",
   "language": "python",
   "name": "python3"
  },
  "language_info": {
   "codemirror_mode": {
    "name": "ipython",
    "version": 3
   },
   "file_extension": ".py",
   "mimetype": "text/x-python",
   "name": "python",
   "nbconvert_exporter": "python",
   "pygments_lexer": "ipython3",
   "version": "3.9.12"
  }
 },
 "nbformat": 4,
 "nbformat_minor": 1
}
